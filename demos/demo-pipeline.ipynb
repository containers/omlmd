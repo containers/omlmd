{
 "cells": [
  {
   "cell_type": "markdown",
   "metadata": {},
   "source": [
    "# from ML model in OCI Artifact → to ModelCar"
   ]
  },
  {
   "cell_type": "markdown",
   "metadata": {},
   "source": [
    "ModelCar's Dockerfile:\n",
    "\n",
    "```dockerfile\n",
    "FROM ghcr.io/oras-project/oras:v1.2.0 as builder\n",
    "\n",
    "RUN oras pull quay.io/mmortari/ml-iris:v1 \n",
    " \n",
    "\n",
    "FROM busybox\n",
    "\n",
    "RUN mkdir /models && chmod 775 /models\n",
    "COPY --from=builder /workspace /models/\n",
    "```"
   ]
  },
  {
   "cell_type": "code",
   "execution_count": 3,
   "metadata": {},
   "outputs": [
    {
     "name": "stdout",
     "output_type": "stream",
     "text": [
      "[1/2] STEP 1/2: FROM ghcr.io/oras-project/oras:v1.2.0 AS builder\n",
      "[1/2] STEP 2/2: RUN oras pull quay.io/mmortari/ml-iris:v1 \n",
      "--> Using cache 7feb1e5fb58481657bd017001bd1f8ce7f930041f522c29ffcee44bc346bf99c\n",
      "--> 7feb1e5fb584\n",
      "[2/2] STEP 1/3: FROM busybox\n",
      "[2/2] STEP 2/3: RUN mkdir /models && chmod 775 /models\n",
      "--> Using cache 4c41b98df27a711498d7e585a7e6a13cc660dc86dc2a30f45fd4d869e5b65091\n",
      "--> 4c41b98df27a\n",
      "[2/2] STEP 3/3: COPY --from=builder /workspace /models/\n",
      "--> Using cache b6a5b03fd625e3a49fd6bd104d250c6efe1be53f48f23db54a1714513e9eb954\n",
      "[2/2] COMMIT mmortari/ml-iris:v1-modelcar\n",
      "--> b6a5b03fd625\n",
      "Successfully tagged localhost/mmortari/ml-iris:v1-modelcar\n",
      "Successfully tagged localhost/matteo/ml-iris:v1-modelcar\n",
      "b6a5b03fd625e3a49fd6bd104d250c6efe1be53f48f23db54a1714513e9eb954\n",
      "Getting image source signatures\n",
      "Copying blob sha256:e5744b46b6c629c1861eb438aca266a1a170a519f080db5885cc4e672cd78d1b\n",
      "Copying blob sha256:8e13bc96641a6983e79c9569873afe5800b0efb3993c3302763b9f5bc5fb8739\n",
      "Copying blob sha256:a1d8fcd2d8014f56ebfd7710bc9487fe01364b8007acca13d75a0127e7f8247a\n",
      "Copying config sha256:b6a5b03fd625e3a49fd6bd104d250c6efe1be53f48f23db54a1714513e9eb954\n",
      "Writing manifest to image destination\n"
     ]
    }
   ],
   "source": [
    "!podman build --load -t mmortari/ml-iris:v1-modelcar -f Containerfile.modelcar .\n",
    "# !podman push --tls-verify=false mmortari/ml-iris:v1-modelcar localhost:8080/matteo/ml-iris:v1-modelcar\n",
    "!podman push mmortari/ml-iris:v1-modelcar quay.io/mmortari/ml-iris:v1-modelcar"
   ]
  },
  {
   "cell_type": "markdown",
   "metadata": {},
   "source": [
    "| local Quay | Quay.io |\n",
    "| --- | --- |\n",
    "| ![image.png](./imgs/Screenshot%202024-06-17%20at%2014.05.02.png) | ![](./imgs/Screenshot%202024-06-24%20at%2013.12.25.png) |"
   ]
  },
  {
   "cell_type": "markdown",
   "metadata": {},
   "source": [
    "# from ModelCar → to BootC image (linux+server+model[/car])"
   ]
  },
  {
   "cell_type": "markdown",
   "metadata": {},
   "source": [
    "bootc containerfile (snippet):\n",
    "\n",
    "```Dockerfile\n",
    "FROM quay.io/centos-bootc/centos-bootc:stream9\n",
    "# ...\n",
    "\n",
    "# Add quadlet files to setup system to automatically run AI application on boot\n",
    "COPY quadlet/sklearn.kube quadlet/sklearn.yaml /usr/share/containers/systemd/\n",
    "\n",
    "# Prepull the model, model_server & application images to populate the system.\n",
    "# Comment the pull commands to keep bootc image smaller.\n",
    "# The quadlet .image file added above pulls following images with service startup\n",
    "RUN podman pull --root /usr/lib/containers/storage docker.io/kserve/sklearnserver:latest\n",
    "RUN podman pull --root /usr/lib/containers/storage quay.io/mmortari/ml-iris:v1-modelcar\n",
    "\n",
    "# ...\n",
    "```"
   ]
  },
  {
   "cell_type": "code",
   "execution_count": 5,
   "metadata": {},
   "outputs": [
    {
     "name": "stdout",
     "output_type": "stream",
     "text": [
      "STEP 1/9: FROM quay.io/centos-bootc/centos-bootc:stream9\n",
      "STEP 2/9: ARG SSHPUBKEY\n",
      "--> Using cache 523580821612112581608763e3943eb40817089f87b690dac045459c0b14fb99\n",
      "--> 523580821612\n",
      "STEP 3/9: RUN set -eu; mkdir -p /usr/ssh &&     echo 'AuthorizedKeysFile /usr/ssh/%u.keys .ssh/authorized_keys .ssh/authorized_keys2' >> /etc/ssh/sshd_config.d/30-auth-system.conf &&     echo ${SSHPUBKEY} > /usr/ssh/root.keys && chmod 0600 /usr/ssh/root.keys\n",
      "--> Using cache 3359a78489d3e4eca5921449532819c1b234660be8ac46f3752dad6ee8989eff\n",
      "--> 3359a78489d3\n",
      "STEP 4/9: COPY quadlet/sklearn.kube quadlet/sklearn.yaml /usr/share/containers/systemd/\n",
      "--> Using cache 5dbe59af0d46b95e74577ce99172e11917622f847d00e4b231cb3d10a937d74a\n",
      "--> 5dbe59af0d46\n",
      "STEP 5/9: RUN sed -i -e '/additionalimage.*/a \"/usr/lib/containers/storage\",'         /etc/containers/storage.conf\n",
      "--> Using cache e16046b72ce01887444619469f31aa4d758cb7dc8b07c51dd7848cc452349df9\n",
      "--> e16046b72ce0\n",
      "STEP 6/9: VOLUME /var/lib/containers\n",
      "--> Using cache 8c0ce999a83d0f12b4484c750749d8bf7483ebd43862a14dd833f7c91416297e\n",
      "--> 8c0ce999a83d\n",
      "STEP 7/9: RUN podman pull --root /usr/lib/containers/storage docker.io/kserve/sklearnserver:latest\n",
      "--> Using cache 1102e2d0a0bc9d1295d6d78fa44b44774fd365c3c44dcb719c4bbdf549bd81fb\n",
      "--> 1102e2d0a0bc\n",
      "STEP 8/9: RUN podman pull --root /usr/lib/containers/storage quay.io/mmortari/ml-iris:v1-modelcar\n",
      "--> Using cache 8915d99264260de1e7f8b5e4c438e3cb9d66f6ce79fab5c5a7f47608ea71a654\n",
      "--> 8915d9926426\n",
      "STEP 9/9: RUN podman system reset --force 2>/dev/null\n",
      "--> Using cache f2b145347580340b1257bafbd2d0dc4b78452af539c1aa13e4dc7a01b0181c51\n",
      "COMMIT mmortari/ml-iris:v1-bootc\n",
      "--> f2b145347580\n",
      "Successfully tagged localhost/mmortari/ml-iris:v1-bootc\n",
      "Successfully tagged localhost/matteo/ml-bootc:latest\n",
      "f2b145347580340b1257bafbd2d0dc4b78452af539c1aa13e4dc7a01b0181c51\n",
      "Getting image source signatures\n",
      "Copying blob sha256:159348fa9cfbb75c5cb57e9fac24b9f28477412149e901bdadb909bfaeb84dad\n",
      "Copying blob sha256:9a1a0862c7696bd2e36bf7aad37f9e59a17de5e9ee17e4e7b9e9decc965476e7\n",
      "Copying blob sha256:8f4a35e515241f6ad7d2201a35e5ff05332e9fbcae37df036c075817e9b1804b\n",
      "Copying blob sha256:bc6a2ddc91e10b1a426be528ef61ccab8eaddd5fbc7f294fdfc315c0439c3df8\n",
      "Copying blob sha256:00c6f47fca9e2dda5a809ca5a3c9a737c6d3fafff608d58a5a12b73351c980b3\n",
      "Copying blob sha256:be6c5d420871ec8fb195d3f81d31a452ce64f764a78919ce278f89a3ad95ff76\n",
      "Copying blob sha256:8bda5d128d2bf9e0ed609a3caf7468ae164663634649f2659bce0b64a2f8fd04\n",
      "Copying blob sha256:53683b678e9f9f5476972a641c4ef4628c3724779a931dd8571931bdf7c8e32a\n",
      "Copying blob sha256:ed6e50b45a9355d57f5593c64d35b4e8eb7b953bc402815a201cb4986a2f7d03\n",
      "Copying blob sha256:ee609ebdf6bae17ca97607057aea365f2c6ca97f1918150f57706ac660bcc479\n",
      "Copying blob sha256:d0327229ef03b620564d051b2bebe685def99ea225a3b82f4d441099870ccb33\n",
      "Copying blob sha256:d418ef0d991d2b54bddda3e2bb6073e4a638ec7dec920f0ac4906b7fd2d37cd2\n",
      "Copying blob sha256:23608f40e2449c3338645fd9d436e0d4c89fc00102d401c1d775e1ccc032af33\n",
      "Copying blob sha256:dc37f84ecbbf37d7e74c38465f47bb2380a77327255686af397f5280e3dbd2dc\n",
      "Copying blob sha256:541f45cf2e80dc06c0a0a48241e96d2b56b86922d6c35e83d2307410c0185361\n",
      "Copying blob sha256:ff18962ccfa3557da881ec43f19936d9add6053fbaea093bf549fce38e4c82fd\n",
      "Copying blob sha256:9133a7bb0ef0744fd68948f609e185f52c0625eed0e88d68caae72f8ae55fe46\n",
      "Copying blob sha256:af01c2e427b65ecbdedcdf608fa9b31a3d2f0b0fe659cd1180036107aa44dc1f\n",
      "Copying blob sha256:cc04469d655fe37c11012ba6829b2a798dffb1c6cbe147ef909e048880936dce\n",
      "Copying blob sha256:977debcd1e585165395a5e9dc8e1c8e1aaafca8a52feadb334c5db130ed5a0b3\n",
      "Copying blob sha256:312bd44fbfb86e4a31816751d39104a1bdd0e1ffed486ed5df080bcf92d99885\n",
      "Copying blob sha256:f8bf2bcf75d855b64309c2f0b324ec35cdeaf331903227fa94d07cd48e8b01b7\n",
      "Copying blob sha256:03f8187d462decd660e9d518a136c79c867bae006e6d4ad0e29cd476b7f81f5d\n",
      "Copying blob sha256:b4d285fa41e72c1c08d693065fddaabeabb529893d391c1a68f306238bcaf899\n",
      "Copying blob sha256:6afbc9f1ff554f2e93f9da5adfcf78c19079797baf26704239c9671dbdb06843\n",
      "Copying blob sha256:d85d11b65e436925fb2ae85483fe3d9fe6a26d2df1253fc82d2b88e1186e61b1\n",
      "Copying blob sha256:0bc63f8713e56edc3ab812b96374e6eb23607e3344dc7775d62d15996b3026a2\n",
      "Copying blob sha256:0e4b9174583041f2c4bc31e420b7614eb6bb9272d98213198d31408d2533d996\n",
      "Copying blob sha256:4a90b950ef7b87cf74480bb547118e60c67f11a0be6f1ef5d6b7c5cccb628ad2\n",
      "Copying blob sha256:e9e565aebe11c19a04353029ccf0937850e07e303f8d1bbd5028db7da38b3a46\n",
      "Copying blob sha256:26d9cf6cd46bbe4f9498dce991e78cf460eb73fecbf78a48db8860ce847df5f9\n",
      "Copying blob sha256:0cd464dec7d8ce1e3a829526f61c64247550a0709f79006f46d19145697e1e21\n",
      "Copying blob sha256:252af62e15bb053755557d85068c1d6008a4a0f59254fe8a1d95c509309f0272\n",
      "Copying blob sha256:a95b28b2a429033c490e942120097fb9e812d9c2f44194812257d204affa4925\n",
      "Copying blob sha256:d58b68ebb657e0bb5c83c6a785d0cb75f26fe8ab32e011dcad23631e34702cb4\n",
      "Copying blob sha256:20595d276e7c26092001d0172a6b8fd106e463be83ddc43ee772cf99c98e1689\n",
      "Copying blob sha256:2972ed6b11ebeb23fc8caa2eef95f49f34ec577ade17b8709388d6124598822a\n",
      "Copying blob sha256:bba9a4105175797190f5a5f4748e153bb3cfc2b02b67f46ce7aef57fb84457c5\n",
      "Copying blob sha256:9e6e86a451df85166fd134825a97c4ab48ca7f9fea6065af919b156feb3caabc\n",
      "Copying blob sha256:264b588ab0efdcab69c90fb8368f9caf8d073c411e5a3c127e51394c702da3d8\n",
      "Copying blob sha256:18715abde6f527c43d49ef4c1690b3bbf9e0afae5e260c5b47c00b29a6db4ded\n",
      "Copying blob sha256:eae5774b7576c190f612f99687da6de5233399ab5f32736965041404fcb82623\n",
      "Copying blob sha256:15e99b564e29957e2fcc9a682e721d55d60105291e6f7dc9d9166f2359091147\n",
      "Copying blob sha256:7f2cc6a58e9f9d758532e147d56e1faa927ddf76141af565b1e2ae030a6faa16\n",
      "Copying blob sha256:5ec13956c466f3f980a2654a1d28f65a7999e17e965a339d273328bb5d65694d\n",
      "Copying blob sha256:ad9f41b8d3fe7fe2bc137a48e29b5be9521f4a438cc559735bd1c5cd243b4d73\n",
      "Copying blob sha256:c2a30036c1731b52edfc3f95064cf995149f0f0c0d0bf15950380a2676b02480\n",
      "Copying blob sha256:641681c6fb73f0f8aa0808bba84603225d0a27433d0dc3eebd6725c4671b5019\n",
      "Copying blob sha256:ced002ce96dba54801f39bf01b24f35458b25debe27f5111ef5db2748157773f\n",
      "Copying blob sha256:98db7f63453669aa9dcaa6596f68ea1b6c58415620516496ac627bbbe15cfaa2\n",
      "Copying blob sha256:eb67550177fc9543b46d93c35ea594d2cecba602dd8e8061846fcc51aa9c7023\n",
      "Copying blob sha256:0a83726b8f52e9a8c35e1de5b3668b5015d3f14eedbdb9cb4c1a8675d8754d5f\n",
      "Copying blob sha256:50a612cf11ad5b7517edfca3803cf6b4f79f3fa3a6b319976116033400a7c5df\n",
      "Copying blob sha256:aab29122a1c4b257fe018e8a637768571425848d7733305f6a854e4ae42651d7\n",
      "Copying blob sha256:588453aa278b23c0c92b7c7d5d89e1f2988313f6f9b52b0bd2c346b779d7b5df\n",
      "Copying blob sha256:52326921ac541baec98dd66cf0a7c5debe7ee2e6144ab3b3bc2b95131b1698f6\n",
      "Copying blob sha256:3aa0203aa7eec51aa944c50255f5550d2d619c85b14d704bff59992aacd4da40\n",
      "Copying blob sha256:96e6392adc46cfcb2342d5bd73cce0c923ab7fbb441c18936d9be5196f351b28\n",
      "Copying blob sha256:a09d21f5f4603a231bbd77191db24b7caca432170e5c04dd76a642c49375870a\n",
      "Copying blob sha256:c8e0127aa9bbe3b0c3ebc3ac2ded8ee1ef81f461a901842d02965cc660bed68c\n",
      "Copying blob sha256:5c71071b3c2dea27ce55614bb0552fc7404a59502d0aaadf41533310e4d4a779\n",
      "Copying blob sha256:60330db9c896d07734b52f34f3ad6d65997cbc85399b6869eaecef1645109cb3\n",
      "Copying blob sha256:0f390c0aaaf1d79b205805e13712cb3ebfb51e5dc71ac3ba4a3c098fcd2ec15e\n",
      "Copying blob sha256:f348316749c1b0c96b44a7862bb3c370f8df48c87311a5122a55e6c1b7074e1e\n",
      "Copying blob sha256:12787d84fa137cd5649a9005efe98ec9d05ea46245fdc50aecb7dd007f2035b1\n",
      "Copying blob sha256:5f70bf18a086007016e948b04aed3b82103a36bea41755b6cddfaf10ace3c6ef\n",
      "Copying blob sha256:68d8020f0c9e1a711948b179264d8a5402f100423cc833b521cc147086fbb19b\n",
      "Copying blob sha256:fe5768784beacddbf861e6a14eb7a8fb691f6a33c1ecbc6aac80b885cf355f85\n",
      "Copying blob sha256:caddd3a4b9c4189f71b86cf99d5790635772b8c9038f785ba8a40f21d95edb1a\n",
      "Copying blob sha256:4c718200cc93786f4b77f1e43fb517f87e45ff88544789a3390a55c63ec510ec\n",
      "Copying blob sha256:c6d68a01008a8b18cc588c38dda4043cf9b1a6ba672a791bc69c796da386e2ec\n",
      "Copying blob sha256:c7af602eb478cda4aa9841fb7049eaa3c55a3ed8b347d5a95956c783fe59d472\n",
      "Copying config sha256:f2b145347580340b1257bafbd2d0dc4b78452af539c1aa13e4dc7a01b0181c51\n",
      "Writing manifest to image destination\n"
     ]
    }
   ],
   "source": [
    "!podman build --build-arg \"SSHPUBKEY=$(cat ~/.ssh/id_rsa.pub)\" \\\n",
    "       --security-opt label=disable \\\n",
    "\t   --cap-add SYS_ADMIN \\\n",
    "\t   -f Containerfile.bootc \\\n",
    "\t   -t mmortari/ml-iris:v1-bootc .\n",
    "!podman push mmortari/ml-iris:v1-bootc quay.io/mmortari/ml-iris:v1-bootc"
   ]
  },
  {
   "cell_type": "markdown",
   "metadata": {},
   "source": [
    "Now the bootc container image is available:\n",
    "\n",
    "![image](./imgs/Screenshot%202024-06-24%20at%2013.22.15.png)\n",
    "\n",
    "We could also make a Virtual Machine out of it:\n",
    "\n",
    "![image](./imgs/Screenshot%202024-06-24%20at%2013.26.50.png)\n",
    "\n",
    "I could run the Virtual Machine and it would serve my model:\n",
    "\n",
    "![image](./imgs/Screenshot%202024-06-18%20at%2010.35.31_2.png)\n",
    "\n",
    "and I could interact with it to make Inference:\n",
    "\n",
    "![](./imgs/Screenshot%202024-06-19%20at%2011.48.25.png)"
   ]
  }
 ],
 "metadata": {
  "kernelspec": {
   "display_name": "oml-uQ20ZOu5-py3.10",
   "language": "python",
   "name": "python3"
  },
  "language_info": {
   "codemirror_mode": {
    "name": "ipython",
    "version": 3
   },
   "file_extension": ".py",
   "mimetype": "text/x-python",
   "name": "python",
   "nbconvert_exporter": "python",
   "pygments_lexer": "ipython3",
   "version": "3.10.13"
  }
 },
 "nbformat": 4,
 "nbformat_minor": 2
}
