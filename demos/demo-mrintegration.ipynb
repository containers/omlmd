{
 "cells": [
  {
   "cell_type": "markdown",
   "metadata": {},
   "source": [
    "Start compose manifest:\n",
    "```\n",
    "rm mr-integration/config/ml-metadata/metadata.sqlite.db && podman compose -f mr-integration-compose.yaml up\n",
    "```\n",
    "![](./imgs/Screenshot%202024-06-26%20at%2016.48.46.png)"
   ]
  },
  {
   "cell_type": "code",
   "execution_count": 1,
   "metadata": {},
   "outputs": [
    {
     "name": "stderr",
     "output_type": "stream",
     "text": [
      "/var/folders/n0/3c71vqs570b8l21fmnvb5k640000gn/T/ipykernel_64380/1045448007.py:7: UserWarning: User access token is missing\n",
      "  model_registry = ModelRegistry(\"localhost\", 9090, author=\"mmortari\", is_secure=False) # this will connect to Model Registry by local docker compose TODO: port once MR client rebased\n"
     ]
    }
   ],
   "source": [
    "from oml.helpers import Helper\n",
    "\n",
    "oml = Helper() # this will connect to OCI registry\n",
    "\n",
    "from model_registry import ModelRegistry\n",
    "\n",
    "model_registry = ModelRegistry(\"localhost\", 9090, author=\"mmortari\", is_secure=False) # this will connect to Model Registry by local docker compose TODO: port once MR client rebased\n"
   ]
  },
  {
   "cell_type": "markdown",
   "metadata": {},
   "source": [
    "# Given a ML model and some metadata, to OCI registry, and then to KF Model Registry (at once)"
   ]
  },
  {
   "cell_type": "code",
   "execution_count": 2,
   "metadata": {},
   "outputs": [
    {
     "name": "stdout",
     "output_type": "stream",
     "text": [
      "-rw-r--r--@ 1 mmortari  staff  3299 Jun 25 12:23 model.joblib\n"
     ]
    }
   ],
   "source": [
    "# assuming a model ...\n",
    "!ls -la model.joblib\n",
    "\n",
    "# ...with some additional characteristics\n",
    "accuracy_value = 0.987"
   ]
  },
  {
   "cell_type": "markdown",
   "metadata": {},
   "source": [
    "![](./imgs/diagram-OCI-then-MR-2024-06-26.png)"
   ]
  },
  {
   "cell_type": "code",
   "execution_count": 3,
   "metadata": {},
   "outputs": [
    {
     "name": "stdout",
     "output_type": "stream",
     "text": [
      "Successfully pushed localhost:8080/matteo/ml-artifact:latest\n",
      "push_sha is: sha256:5a88b147bddb8f163a459b81d3605525b71fe91bb9ddf086e8377cbb43e2da9b\n"
     ]
    }
   ],
   "source": [
    "from oml.dispatcher import Dispatcher\n",
    "\n",
    "dispatcher = Dispatcher(oml, model_registry)\n",
    "result = dispatcher.push_then_model_registry(\n",
    "    \"localhost:8080/matteo/ml-artifact:latest\", \"model.joblib\", name=\"Model Example\", author=\"John Doe\", license=\"Apache-2.0\", accuracy=accuracy_value\n",
    ")"
   ]
  },
  {
   "cell_type": "code",
   "execution_count": 4,
   "metadata": {},
   "outputs": [
    {
     "name": "stdout",
     "output_type": "stream",
     "text": [
      "sha in OCI registry: sha256:5a88b147bddb8f163a459b81d3605525b71fe91bb9ddf086e8377cbb43e2da9b\n",
      "RegisteredModel:\n",
      "RegisteredModel(id='1', description='', external_id='', create_time_since_epoch=1719415876927, last_update_time_since_epoch=1719415876927, state=<ContextState.LIVE: 'LIVE'>, name='Model Example', owner='mmortari')\n",
      "ModelVersion:\n",
      "ModelVersion(name='sha256:5a88b147bddb8f163a459b81d3605525b71fe91bb9ddf086e8377cbb43e2da9b', id='2', description='', external_id='', create_time_since_epoch=1719415876997, last_update_time_since_epoch=1719415876997, state=<ContextState.LIVE: 'LIVE'>, model_name='Model Example', version='sha256:5a88b147bddb8f163a459b81d3605525b71fe91bb9ddf086e8377cbb43e2da9b', author='John Doe', metadata={'accuracy': 0.987, 'license': 'Apache-2.0'}, artifacts=NOTHING, _registered_model_id=NOTHING)\n",
      "ModelArtifact:\n",
      "ModelArtifact(id='1', description='', external_id='', create_time_since_epoch=1719415877088, last_update_time_since_epoch=1719415877088, name='Model Example', uri='localhost:8080/matteo/ml-artifact:latest', state=<ArtifactState.UNKNOWN: 0>, model_format_name='', model_format_version='', storage_key='', storage_path='', service_account_name='', _model_version_id=NOTHING)\n"
     ]
    }
   ],
   "source": [
    "print(\"sha in OCI registry:\", result.push_sha)\n",
    "\n",
    "lookup_name = \"Model Example\"\n",
    "lookup_version = result.push_sha\n",
    "\n",
    "print(\"RegisteredModel:\")\n",
    "registered_model = model_registry.get_registered_model(lookup_name)\n",
    "print(registered_model)\n",
    "print(\"ModelVersion:\")\n",
    "model_version = model_registry.get_model_version(lookup_name, lookup_version)\n",
    "print(model_version)\n",
    "print(\"ModelArtifact:\")\n",
    "model_artifact = model_registry.get_model_artifact(lookup_name, lookup_version)\n",
    "print(model_artifact)"
   ]
  },
  {
   "cell_type": "markdown",
   "metadata": {},
   "source": [
    "# Given some metadata entry in KF model registry, attempt retrieve pointed ML model file asset, then OCI registry"
   ]
  },
  {
   "cell_type": "code",
   "execution_count": 5,
   "metadata": {},
   "outputs": [],
   "source": [
    "# assuming a model indexed on KF Model Registry ...\n",
    "\n",
    "registeredmodel_name = \"mnist\"\n",
    "version_name = \"v0.1\"\n",
    "\n",
    "rm = model_registry.register_model(\n",
    "    registeredmodel_name,\n",
    "    \"https://github.com/tarilabs/demo20231212/raw/main/v1.nb20231206162408/mnist.onnx\",\n",
    "    model_format_name=\"onnx\",\n",
    "    model_format_version=\"1\",\n",
    "    version=version_name,\n",
    "    description=\"lorem ipsum mnist\",\n",
    "    metadata={\n",
    "        \"accuracy\": 3.14,\n",
    "        \"license\": \"apache-2.0\",\n",
    "    }\n",
    ")"
   ]
  },
  {
   "cell_type": "markdown",
   "metadata": {},
   "source": [
    "![](./imgs/Screenshot%202024-06-26%20at%2017.25.10.png)"
   ]
  },
  {
   "cell_type": "code",
   "execution_count": 6,
   "metadata": {},
   "outputs": [
    {
     "name": "stdout",
     "output_type": "stream",
     "text": [
      "Successfully pushed localhost:8080/matteo/mnist:v0.1\n"
     ]
    },
    {
     "data": {
      "text/plain": [
       "<Response [201]>"
      ]
     },
     "execution_count": 6,
     "metadata": {},
     "output_type": "execute_result"
    }
   ],
   "source": [
    "from oml.helpers import download_file\n",
    "\n",
    "lookup_name = \"mnist\"\n",
    "lookup_version = \"v0.1\"\n",
    "\n",
    "registered_model = model_registry.get_registered_model(lookup_name)\n",
    "model_version = model_registry.get_model_version(lookup_name, lookup_version)\n",
    "model_artifact = model_registry.get_model_artifact(lookup_name, lookup_version)\n",
    "\n",
    "file_from_mr = download_file(model_artifact.uri)\n",
    "\n",
    "oml.push(\n",
    "    f\"localhost:8080/matteo/{lookup_name}:{lookup_version}\",\n",
    "    file_from_mr,\n",
    "    name=lookup_name,\n",
    "    description=model_version.description,\n",
    "    author=model_version.author,\n",
    "    model_format_name=model_artifact.model_format_name,\n",
    "    model_format_version=model_artifact.model_format_version,\n",
    "    **model_version.metadata\n",
    ")"
   ]
  },
  {
   "cell_type": "markdown",
   "metadata": {},
   "source": [
    "![](./docs/imgs/Screenshot%202024-06-26%20at%2017.29.18.png)"
   ]
  }
 ],
 "metadata": {
  "kernelspec": {
   "display_name": "oml-uQ20ZOu5-py3.10",
   "language": "python",
   "name": "python3"
  },
  "language_info": {
   "codemirror_mode": {
    "name": "ipython",
    "version": 3
   },
   "file_extension": ".py",
   "mimetype": "text/x-python",
   "name": "python",
   "nbconvert_exporter": "python",
   "pygments_lexer": "ipython3",
   "version": "3.10.13"
  }
 },
 "nbformat": 4,
 "nbformat_minor": 2
}
