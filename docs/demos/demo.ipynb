{
 "cells": [
  {
   "cell_type": "markdown",
   "metadata": {},
   "source": [
    "# Model Training\n",
    "We simulate (poorly!) a ML model training and we persist the resulting model in a joblib file."
   ]
  },
  {
   "cell_type": "code",
   "execution_count": 1,
   "metadata": {},
   "outputs": [
    {
     "name": "stdout",
     "output_type": "stream",
     "text": [
      "accuracy: 0.9777777777777777\n"
     ]
    }
   ],
   "source": [
    "import joblib\n",
    "from sklearn import datasets\n",
    "from sklearn.model_selection import train_test_split\n",
    "from sklearn.svm import SVC\n",
    "from sklearn.metrics import accuracy_score\n",
    "\n",
    "X, y = datasets.load_iris(return_X_y=True)\n",
    "X_train, X_test, y_train, y_test = train_test_split(X, y, test_size = 0.3, random_state = 1, stratify = y)\n",
    "svc_linear = SVC(kernel=\"linear\", probability=True)\n",
    "svc_linear.fit(X_train, y_train)\n",
    "\n",
    "y_pred = svc_linear.predict(X_test)\n",
    "accuracy_value = accuracy_score(y_test, y_pred)\n",
    "print(\"accuracy:\", accuracy_value)"
   ]
  },
  {
   "cell_type": "code",
   "execution_count": 2,
   "metadata": {},
   "outputs": [
    {
     "name": "stdout",
     "output_type": "stream",
     "text": [
      "-rw-r--r--@ 1 mmortari  staff  3299 Jun 17 10:22 model.joblib\n"
     ]
    }
   ],
   "source": [
    "with open(\"model.joblib\", 'wb') as fo:  \n",
    "   joblib.dump(svc_linear, fo)\n",
    "\n",
    "%ls -lA model*"
   ]
  },
  {
   "cell_type": "markdown",
   "metadata": {},
   "source": [
    "# OCI Artifact\n",
    "Let's leverage OCI-Artifact and OCI-Dist to warehouse our ML model and its metadata."
   ]
  },
  {
   "cell_type": "code",
   "execution_count": 3,
   "metadata": {},
   "outputs": [
    {
     "name": "stdout",
     "output_type": "stream",
     "text": [
      "Successfully pushed localhost:8080/matteo/ml-artifact:latest\n"
     ]
    }
   ],
   "source": [
    "from omlmd.helpers import Helper\n",
    "\n",
    "omlmd = Helper()\n",
    "omlmd.push(\"localhost:8080/matteo/ml-artifact:latest\", \"model.joblib\", name=\"Model Example\", author=\"John Doe\", license=\"Apache-2.0\", accuracy=accuracy_value)"
   ]
  },
  {
   "cell_type": "markdown",
   "metadata": {},
   "source": [
    "| Zot | Quay |\n",
    "| --- | --- |\n",
    "| ![](./imgs/Screenshot%202024-06-07%20at%2018.12.04.png) | ![](./imgs/Screenshot%202024-06-12%20at%2010.02.44.png) |"
   ]
  },
  {
   "cell_type": "markdown",
   "metadata": {},
   "source": [
    "Demonstrate _pull_ with **vanilla** OCI-compliant clients"
   ]
  },
  {
   "cell_type": "code",
   "execution_count": 4,
   "metadata": {},
   "outputs": [
    {
     "name": "stdout",
     "output_type": "stream",
     "text": [
      "total 24\n",
      "-rw-r--r--@ 1 mmortari  staff  3299 Jun 17 10:22 model.joblib\n",
      "-rw-r--r--@ 1 mmortari  staff   269 Jun 17 10:22 model_metadata.oml.json\n",
      "-rw-r--r--@ 1 mmortari  staff   187 Jun 17 10:22 model_metadata.oml.yaml\n"
     ]
    }
   ],
   "source": [
    "from oras.provider import Registry\n",
    "\n",
    "oras_registry = Registry(insecure=True)\n",
    "oras_registry.pull(target=\"localhost:8080/matteo/ml-artifact:latest\", outdir=\"tmp/a\")\n",
    "\n",
    "%ls -lA tmp/a"
   ]
  },
  {
   "cell_type": "markdown",
   "metadata": {},
   "source": [
    "Demonstrate _custom pull_, filtering to download only ML artifact and nothing else"
   ]
  },
  {
   "cell_type": "code",
   "execution_count": 5,
   "metadata": {},
   "outputs": [
    {
     "name": "stdout",
     "output_type": "stream",
     "text": [
      "total 8\n",
      "-rw-r--r--@ 1 mmortari  staff  3299 Jun 17 10:22 model.joblib\n"
     ]
    }
   ],
   "source": [
    "omlmd.pull(target=\"localhost:8080/matteo/ml-artifact:latest\", outdir=\"tmp/b\", media_types=[\"application/x-mlmodel\"])\n",
    "\n",
    "%ls -lA tmp/b"
   ]
  },
  {
   "cell_type": "markdown",
   "metadata": {},
   "source": [
    "Demonstrate custom fetch of metadata layer (following OCI-Artifact conventions)"
   ]
  },
  {
   "cell_type": "code",
   "execution_count": 6,
   "metadata": {},
   "outputs": [
    {
     "name": "stdout",
     "output_type": "stream",
     "text": [
      "{\"reference\":\"localhost:8080/matteo/ml-artifact:latest\", \"config\": {\n",
      "    \"name\": \"Model Example\",\n",
      "    \"description\": null,\n",
      "    \"author\": \"John Doe\",\n",
      "    \"customProperties\": {\n",
      "        \"license\": \"Apache-2.0\",\n",
      "        \"accuracy\": 0.9777777777777777\n",
      "    },\n",
      "    \"uri\": null,\n",
      "    \"model_format_name\": null,\n",
      "    \"model_format_version\": null\n",
      "} }\n"
     ]
    }
   ],
   "source": [
    "print(omlmd.get_config(target=\"localhost:8080/matteo/ml-artifact:latest\"))"
   ]
  },
  {
   "cell_type": "markdown",
   "metadata": {},
   "source": [
    "# Crawl OCI-Artifacts\n",
    "\n",
    "Demonstrator of client-side crawling.\n",
    "This is only a demonstrator, working on analogous concept server-side (beyond OCI specification, but integrating with it)."
   ]
  },
  {
   "cell_type": "code",
   "execution_count": 7,
   "metadata": {},
   "outputs": [
    {
     "name": "stdout",
     "output_type": "stream",
     "text": [
      "Successfully pushed localhost:8080/matteo/ml-artifact:v1\n",
      "Successfully pushed localhost:8080/matteo/ml-artifact:v2\n",
      "Successfully pushed localhost:8080/matteo/ml-artifact:v3\n"
     ]
    }
   ],
   "source": [
    "# data prep (simulated): store in OCI 3 tags, with different `accuracy` metadata\n",
    "omlmd.push(\"localhost:8080/matteo/ml-artifact:v1\", \"model.joblib\", accuracy=.85, name=\"Model Example\", author=\"John Doe\", license=\"Apache-2.0\")\n",
    "omlmd.push(\"localhost:8080/matteo/ml-artifact:v2\", \"model.joblib\", accuracy=.90, name=\"Model Example\", author=\"John Doe\", license=\"Apache-2.0\")\n",
    "omlmd.push(\"localhost:8080/matteo/ml-artifact:v3\", \"model.joblib\", accuracy=.95, name=\"Model Example\", author=\"John Doe\", license=\"Apache-2.0\")"
   ]
  },
  {
   "cell_type": "markdown",
   "metadata": {},
   "source": [
    "| Zot | Quay |\n",
    "| --- | --- |\n",
    "| ![](./imgs/Screenshot%202024-06-07%20at%2018.12.29.png) | ![](./imgs/Screenshot%202024-06-12%20at%2010.07.10.png) |"
   ]
  },
  {
   "cell_type": "code",
   "execution_count": 8,
   "metadata": {},
   "outputs": [],
   "source": [
    "crawl_result = omlmd.crawl([\n",
    "    \"localhost:8080/matteo/ml-artifact:v1\",\n",
    "    \"localhost:8080/matteo/ml-artifact:v2\",\n",
    "    \"localhost:8080/matteo/ml-artifact:v3\"\n",
    "])"
   ]
  },
  {
   "cell_type": "markdown",
   "metadata": {},
   "source": [
    "Demonstrate integration of crawling results with querying (in this case using jQ)\n",
    "\n",
    "> Of the crawled ML OCI artifacts, which one exhibit the max accuracy?"
   ]
  },
  {
   "cell_type": "code",
   "execution_count": 9,
   "metadata": {},
   "outputs": [
    {
     "data": {
      "text/plain": [
       "'localhost:8080/matteo/ml-artifact:v3'"
      ]
     },
     "execution_count": 9,
     "metadata": {},
     "output_type": "execute_result"
    }
   ],
   "source": [
    "import jq\n",
    "jq.compile( \"max_by(.config.customProperties.accuracy).reference\" ).input_text(crawl_result).first()"
   ]
  }
 ],
 "metadata": {
  "kernelspec": {
   "display_name": "oml-uQ20ZOu5-py3.10",
   "language": "python",
   "name": "python3"
  },
  "language_info": {
   "codemirror_mode": {
    "name": "ipython",
    "version": 3
   },
   "file_extension": ".py",
   "mimetype": "text/x-python",
   "name": "python",
   "nbconvert_exporter": "python",
   "pygments_lexer": "ipython3",
   "version": "3.10.13"
  }
 },
 "nbformat": 4,
 "nbformat_minor": 2
}
